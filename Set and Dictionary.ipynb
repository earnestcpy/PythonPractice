{
 "cells": [
  {
   "cell_type": "code",
   "execution_count": 1,
   "metadata": {},
   "outputs": [
    {
     "name": "stdout",
     "output_type": "stream",
     "text": [
      "{1, 2, 3, 4, 5}\n"
     ]
    }
   ],
   "source": [
    "#Set only stores unique values.\n",
    "numbers = [1,2,2,3,3,4,4,5]\n",
    "unique = set(numbers)\n",
    "print(unique)"
   ]
  },
  {
   "cell_type": "code",
   "execution_count": 6,
   "metadata": {},
   "outputs": [
    {
     "name": "stdout",
     "output_type": "stream",
     "text": [
      "{'chinese': 2, 'German': 3, 'English': 5, 'Japanese': 2}\n"
     ]
    }
   ],
   "source": [
    "#Dictionary composes of a collection of <Key, value> pairs such that each key appears at most once in the collection \n",
    "\n",
    "international_students = {\"chinese\": 2, \"German\": 3, \"English\": 5, \"Japanese\": 2}\n",
    "print(international_students);"
   ]
  },
  {
   "cell_type": "code",
   "execution_count": 9,
   "metadata": {},
   "outputs": [
    {
     "name": "stdout",
     "output_type": "stream",
     "text": [
      "2\n",
      "2\n",
      "None\n"
     ]
    }
   ],
   "source": [
    "#Access the corresponding value by its key\n",
    "print(international_students[\"chinese\"])\n",
    "\n",
    "print(international_students.get(\"chinese\"))\n",
    "print(international_students.get(\"gpsdgpjndlj\"))\n"
   ]
  },
  {
   "cell_type": "code",
   "execution_count": 12,
   "metadata": {},
   "outputs": [],
   "source": [
    "#Advanced use of Dictionary\n",
    "students = {\"Earnest\": {\"gender\": \"male\", \"nationality\": \"HK\"},\n",
    "            \"Mary\": {\"gender\": \"female\", \"nationality\": \"China\"}\n",
    "           }"
   ]
  },
  {
   "cell_type": "code",
   "execution_count": 13,
   "metadata": {},
   "outputs": [
    {
     "name": "stdout",
     "output_type": "stream",
     "text": [
      "female\n"
     ]
    }
   ],
   "source": [
    "print(students[\"Mary\"][\"gender\"])"
   ]
  },
  {
   "cell_type": "code",
   "execution_count": null,
   "metadata": {},
   "outputs": [],
   "source": []
  }
 ],
 "metadata": {
  "kernelspec": {
   "display_name": "Python 3",
   "language": "python",
   "name": "python3"
  },
  "language_info": {
   "codemirror_mode": {
    "name": "ipython",
    "version": 3
   },
   "file_extension": ".py",
   "mimetype": "text/x-python",
   "name": "python",
   "nbconvert_exporter": "python",
   "pygments_lexer": "ipython3",
   "version": "3.7.3"
  }
 },
 "nbformat": 4,
 "nbformat_minor": 2
}
