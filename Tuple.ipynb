{
 "cells": [
  {
   "cell_type": "code",
   "execution_count": 3,
   "metadata": {},
   "outputs": [
    {
     "name": "stdout",
     "output_type": "stream",
     "text": [
      "('Earnest', 'Mary', 'Eason')\n",
      "Earnest\n",
      "Mary\n"
     ]
    }
   ],
   "source": [
    "#Tuple does not work the same as List becuase Tuple is immutable and List is mutable.\n",
    "#Tuple = ()\n",
    "#List = []\n",
    "\n",
    "names = (\"Earnest\", \"Mary\", \"Eason\")\n",
    "sample_1 = names[0]\n",
    "sample_2 = names[1]\n",
    "print(names)\n",
    "print(sample_1)\n",
    "print(sample_2)"
   ]
  },
  {
   "cell_type": "code",
   "execution_count": null,
   "metadata": {},
   "outputs": [],
   "source": []
  }
 ],
 "metadata": {
  "kernelspec": {
   "display_name": "Python 3",
   "language": "python",
   "name": "python3"
  },
  "language_info": {
   "codemirror_mode": {
    "name": "ipython",
    "version": 3
   },
   "file_extension": ".py",
   "mimetype": "text/x-python",
   "name": "python",
   "nbconvert_exporter": "python",
   "pygments_lexer": "ipython3",
   "version": "3.7.3"
  }
 },
 "nbformat": 4,
 "nbformat_minor": 2
}
