{
 "cells": [
  {
   "cell_type": "code",
   "execution_count": 1,
   "metadata": {},
   "outputs": [],
   "source": [
    "import numpy as np\n",
    "import matplotlib.pyplot as plt"
   ]
  },
  {
   "cell_type": "code",
   "execution_count": 24,
   "metadata": {},
   "outputs": [
    {
     "data": {
      "image/png": "[encoded data removed]",
      "text/plain": [
       "<Figure size 288x288 with 1 Axes>"
      ]
     },
     "metadata": {
      "needs_background": "light"
     },
     "output_type": "display_data"
    }
   ],
   "source": [
    "n_pts = 100\n",
    "np.random.seed(0)\n",
    "#np.random.normal()   generates a list of number based on standard normal distribution\n",
    "#normal('centre of the disturbution', \"Standard deviation aka how spread the data\", #to be generated)\n",
    "top_random_x1_values = np.random.normal(10, 2, n_pts)  #x coordinates of points \n",
    "top_random_x2_values = np.random.normal(12, 2, n_pts)  #y coordinates of points\n",
    "\n",
    "#read np.transpose(...) \n",
    "#combined 2 1-D arrays into 1 2-Darray  \n",
    "#e.g combined_array[][0] is equal to random_x1_values\n",
    "#e.g combined_array[][1] is equal to random_x2_values\n",
    "\n",
    "top_region = np.array([top_random_x1_values, top_random_x2_values]).T  \n",
    "\n",
    "\n",
    "# print(random_x1_values)\n",
    "# print(random_x2_values)\n",
    "# print(top_region)\n",
    "\n",
    "bottom_random_x1_values = np.random.normal(5, 2, n_pts)  #x coordinates of points \n",
    "bottom_random_x2_values = np.random.normal(5, 2, n_pts)  #y coordinates of points\n",
    "bottom_region = np.array([bottom_random_x1_values, bottom_random_x2_values]).T\n",
    "_, axes = plt.subplots(figsize=(4,4))\n",
    "axes.scatter(top_region[:,0], top_region[:,1], color='red')\n",
    "axes.scatter(bottom_region[:,0], bottom_region[:,1], color='blue')\n",
    "plt.show()\n"
   ]
  },
  {
   "cell_type": "code",
   "execution_count": null,
   "metadata": {},
   "outputs": [],
   "source": []
  },
  {
   "cell_type": "code",
   "execution_count": null,
   "metadata": {},
   "outputs": [],
   "source": []
  }
 ],
 "metadata": {
  "kernelspec": {
   "display_name": "Python 3",
   "language": "python",
   "name": "python3"
  },
  "language_info": {
   "codemirror_mode": {
    "name": "ipython",
    "version": 3
   },
   "file_extension": ".py",
   "mimetype": "text/x-python",
   "name": "python",
   "nbconvert_exporter": "python",
   "pygments_lexer": "ipython3",
   "version": "3.6.8"
  }
 },
 "nbformat": 4,
 "nbformat_minor": 2
}
